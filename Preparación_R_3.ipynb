{
  "nbformat": 4,
  "nbformat_minor": 0,
  "metadata": {
    "colab": {
      "name": "Preparación R 3.ipynb",
      "provenance": [],
      "authorship_tag": "ABX9TyP5RMk5AJFDvJlEDeH1M/su",
      "include_colab_link": true
    },
    "kernelspec": {
      "name": "ir",
      "display_name": "R"
    },
    "language_info": {
      "name": "R"
    }
  },
  "cells": [
    {
      "cell_type": "markdown",
      "metadata": {
        "id": "view-in-github",
        "colab_type": "text"
      },
      "source": [
        "<a href=\"https://colab.research.google.com/github/MiguelITSON/prueba/blob/main/Preparaci%C3%B3n_R_3.ipynb\" target=\"_parent\"><img src=\"https://colab.research.google.com/assets/colab-badge.svg\" alt=\"Open In Colab\"/></a>"
      ]
    },
    {
      "cell_type": "code",
      "metadata": {
        "id": "NoqiBWDRakko",
        "colab": {
          "base_uri": "https://localhost:8080/",
          "height": 35
        },
        "outputId": "1625abbd-c127-4d5d-a342-6e75c5b7ec77"
      },
      "source": [
        "A <- 6\n",
        "\n",
        "A[A<=6]"
      ],
      "execution_count": null,
      "outputs": [
        {
          "output_type": "display_data",
          "data": {
            "text/plain": [
              "[1] 6"
            ],
            "text/latex": "6",
            "text/markdown": "6",
            "text/html": [
              "6"
            ]
          },
          "metadata": {
            "tags": []
          }
        }
      ]
    },
    {
      "cell_type": "code",
      "metadata": {
        "colab": {
          "base_uri": "https://localhost:8080/",
          "height": 176
        },
        "id": "T9OsWZQQ1nnz",
        "outputId": "9baaa8eb-42df-4aba-bd28-7432a8d0b152"
      },
      "source": [
        "diag(2,nrow = 4,ncol = 4)\n"
      ],
      "execution_count": null,
      "outputs": [
        {
          "output_type": "display_data",
          "data": {
            "text/plain": [
              "     [,1] [,2] [,3] [,4]\n",
              "[1,] 2    0    0    0   \n",
              "[2,] 0    2    0    0   \n",
              "[3,] 0    0    2    0   \n",
              "[4,] 0    0    0    2   "
            ],
            "text/latex": "A matrix: 4 × 4 of type dbl\n\\begin{tabular}{llll}\n\t 2 & 0 & 0 & 0\\\\\n\t 0 & 2 & 0 & 0\\\\\n\t 0 & 0 & 2 & 0\\\\\n\t 0 & 0 & 0 & 2\\\\\n\\end{tabular}\n",
            "text/markdown": "\nA matrix: 4 × 4 of type dbl\n\n| 2 | 0 | 0 | 0 |\n| 0 | 2 | 0 | 0 |\n| 0 | 0 | 2 | 0 |\n| 0 | 0 | 0 | 2 |\n\n",
            "text/html": [
              "<table class=\"dataframe\">\n",
              "<caption>A matrix: 4 × 4 of type dbl</caption>\n",
              "<tbody>\n",
              "\t<tr><td>2</td><td>0</td><td>0</td><td>0</td></tr>\n",
              "\t<tr><td>0</td><td>2</td><td>0</td><td>0</td></tr>\n",
              "\t<tr><td>0</td><td>0</td><td>2</td><td>0</td></tr>\n",
              "\t<tr><td>0</td><td>0</td><td>0</td><td>2</td></tr>\n",
              "</tbody>\n",
              "</table>\n"
            ]
          },
          "metadata": {
            "tags": []
          }
        }
      ]
    },
    {
      "cell_type": "code",
      "metadata": {
        "colab": {
          "base_uri": "https://localhost:8080/",
          "height": 379
        },
        "id": "zTaeiW6B2gqb",
        "outputId": "9fea1c48-7549-469b-8ccd-08426d9265e2"
      },
      "source": [
        "Evaluaciones <- matrix(c(7,6.5,9.2,8.6,8,\n",
        "7.5,9.4,7.3,7,7,\n",
        "7.6,9.2,8,8,7.5,\n",
        "5,6.5,6.5,7,9,\n",
        "6,6,7.8,8.9,7.3,\n",
        "7.8,9.6,7.7,8,6.5,\n",
        "6.3,6.4,8.2,9,7.2,\n",
        "7.9,9.7,7.5,8,6,\n",
        "6,6,6.5,5.5,8.7,\n",
        "6.8,7.2,8.7,9,7),nrow = 10,ncol = 5, byrow = T, dimnames = list(c('Lucia', 'Pedro', 'Ines', 'Luis', 'Andres', 'Ana', 'Carlos', 'Jose', 'Sonia', 'Maria'),\n",
        "c('Matematicas', 'Ciencias', 'Español', 'Historia', 'Fisica')))\n",
        "\n",
        "Evaluaciones\n"
      ],
      "execution_count": null,
      "outputs": [
        {
          "output_type": "display_data",
          "data": {
            "text/plain": [
              "       Matematicas Ciencias Español Historia Fisica\n",
              "Lucia  7.0         6.5      9.2     8.6      8.0   \n",
              "Pedro  7.5         9.4      7.3     7.0      7.0   \n",
              "Ines   7.6         9.2      8.0     8.0      7.5   \n",
              "Luis   5.0         6.5      6.5     7.0      9.0   \n",
              "Andres 6.0         6.0      7.8     8.9      7.3   \n",
              "Ana    7.8         9.6      7.7     8.0      6.5   \n",
              "Carlos 6.3         6.4      8.2     9.0      7.2   \n",
              "Jose   7.9         9.7      7.5     8.0      6.0   \n",
              "Sonia  6.0         6.0      6.5     5.5      8.7   \n",
              "Maria  6.8         7.2      8.7     9.0      7.0   "
            ],
            "text/latex": "A matrix: 10 × 5 of type dbl\n\\begin{tabular}{r|lllll}\n  & Matematicas & Ciencias & Español & Historia & Fisica\\\\\n\\hline\n\tLucia & 7.0 & 6.5 & 9.2 & 8.6 & 8.0\\\\\n\tPedro & 7.5 & 9.4 & 7.3 & 7.0 & 7.0\\\\\n\tInes & 7.6 & 9.2 & 8.0 & 8.0 & 7.5\\\\\n\tLuis & 5.0 & 6.5 & 6.5 & 7.0 & 9.0\\\\\n\tAndres & 6.0 & 6.0 & 7.8 & 8.9 & 7.3\\\\\n\tAna & 7.8 & 9.6 & 7.7 & 8.0 & 6.5\\\\\n\tCarlos & 6.3 & 6.4 & 8.2 & 9.0 & 7.2\\\\\n\tJose & 7.9 & 9.7 & 7.5 & 8.0 & 6.0\\\\\n\tSonia & 6.0 & 6.0 & 6.5 & 5.5 & 8.7\\\\\n\tMaria & 6.8 & 7.2 & 8.7 & 9.0 & 7.0\\\\\n\\end{tabular}\n",
            "text/markdown": "\nA matrix: 10 × 5 of type dbl\n\n| <!--/--> | Matematicas | Ciencias | Español | Historia | Fisica |\n|---|---|---|---|---|---|\n| Lucia | 7.0 | 6.5 | 9.2 | 8.6 | 8.0 |\n| Pedro | 7.5 | 9.4 | 7.3 | 7.0 | 7.0 |\n| Ines | 7.6 | 9.2 | 8.0 | 8.0 | 7.5 |\n| Luis | 5.0 | 6.5 | 6.5 | 7.0 | 9.0 |\n| Andres | 6.0 | 6.0 | 7.8 | 8.9 | 7.3 |\n| Ana | 7.8 | 9.6 | 7.7 | 8.0 | 6.5 |\n| Carlos | 6.3 | 6.4 | 8.2 | 9.0 | 7.2 |\n| Jose | 7.9 | 9.7 | 7.5 | 8.0 | 6.0 |\n| Sonia | 6.0 | 6.0 | 6.5 | 5.5 | 8.7 |\n| Maria | 6.8 | 7.2 | 8.7 | 9.0 | 7.0 |\n\n",
            "text/html": [
              "<table class=\"dataframe\">\n",
              "<caption>A matrix: 10 × 5 of type dbl</caption>\n",
              "<thead>\n",
              "\t<tr><th></th><th scope=col>Matematicas</th><th scope=col>Ciencias</th><th scope=col>Español</th><th scope=col>Historia</th><th scope=col>Fisica</th></tr>\n",
              "</thead>\n",
              "<tbody>\n",
              "\t<tr><th scope=row>Lucia</th><td>7.0</td><td>6.5</td><td>9.2</td><td>8.6</td><td>8.0</td></tr>\n",
              "\t<tr><th scope=row>Pedro</th><td>7.5</td><td>9.4</td><td>7.3</td><td>7.0</td><td>7.0</td></tr>\n",
              "\t<tr><th scope=row>Ines</th><td>7.6</td><td>9.2</td><td>8.0</td><td>8.0</td><td>7.5</td></tr>\n",
              "\t<tr><th scope=row>Luis</th><td>5.0</td><td>6.5</td><td>6.5</td><td>7.0</td><td>9.0</td></tr>\n",
              "\t<tr><th scope=row>Andres</th><td>6.0</td><td>6.0</td><td>7.8</td><td>8.9</td><td>7.3</td></tr>\n",
              "\t<tr><th scope=row>Ana</th><td>7.8</td><td>9.6</td><td>7.7</td><td>8.0</td><td>6.5</td></tr>\n",
              "\t<tr><th scope=row>Carlos</th><td>6.3</td><td>6.4</td><td>8.2</td><td>9.0</td><td>7.2</td></tr>\n",
              "\t<tr><th scope=row>Jose</th><td>7.9</td><td>9.7</td><td>7.5</td><td>8.0</td><td>6.0</td></tr>\n",
              "\t<tr><th scope=row>Sonia</th><td>6.0</td><td>6.0</td><td>6.5</td><td>5.5</td><td>8.7</td></tr>\n",
              "\t<tr><th scope=row>Maria</th><td>6.8</td><td>7.2</td><td>8.7</td><td>9.0</td><td>7.0</td></tr>\n",
              "</tbody>\n",
              "</table>\n"
            ]
          },
          "metadata": {
            "tags": []
          }
        }
      ]
    },
    {
      "cell_type": "code",
      "metadata": {
        "colab": {
          "base_uri": "https://localhost:8080/",
          "height": 83
        },
        "id": "ajTFIS_idzFD",
        "outputId": "44178db8-8c41-4c60-8a2e-491efb8f3cd5"
      },
      "source": [
        "t(rep(1,5))"
      ],
      "execution_count": null,
      "outputs": [
        {
          "output_type": "display_data",
          "data": {
            "text/plain": [
              "     [,1] [,2] [,3] [,4] [,5]\n",
              "[1,] 1    1    1    1    1   "
            ],
            "text/latex": "A matrix: 1 × 5 of type dbl\n\\begin{tabular}{lllll}\n\t 1 & 1 & 1 & 1 & 1\\\\\n\\end{tabular}\n",
            "text/markdown": "\nA matrix: 1 × 5 of type dbl\n\n| 1 | 1 | 1 | 1 | 1 |\n\n",
            "text/html": [
              "<table class=\"dataframe\">\n",
              "<caption>A matrix: 1 × 5 of type dbl</caption>\n",
              "<tbody>\n",
              "\t<tr><td>1</td><td>1</td><td>1</td><td>1</td><td>1</td></tr>\n",
              "</tbody>\n",
              "</table>\n"
            ]
          },
          "metadata": {
            "tags": []
          }
        }
      ]
    },
    {
      "cell_type": "code",
      "metadata": {
        "id": "bqUKMlZW9_gD",
        "colab": {
          "base_uri": "https://localhost:8080/",
          "height": 98
        },
        "outputId": "e35b1f1a-1bf6-4b75-ad06-5b88e83fb200"
      },
      "source": [
        "vector_columna1 <- matrix(rep(1,5),nrow = 5, ncol = 1, byrow = T)\n",
        "#vector_columna1\n",
        "\n",
        "Media_alumno <- t(1/5*Evaluaciones%*%vector_columna1)\n",
        "Media_alumno\n"
      ],
      "execution_count": null,
      "outputs": [
        {
          "output_type": "display_data",
          "data": {
            "text/plain": [
              "     Lucia Pedro Ines Luis Andres Ana  Carlos Jose Sonia Maria\n",
              "[1,] 7.86  7.64  8.06 6.8  7.2    7.92 7.42   7.82 6.54  7.74 "
            ],
            "text/latex": "A matrix: 1 × 10 of type dbl\n\\begin{tabular}{llllllllll}\n Lucia & Pedro & Ines & Luis & Andres & Ana & Carlos & Jose & Sonia & Maria\\\\\n\\hline\n\t 7.86 & 7.64 & 8.06 & 6.8 & 7.2 & 7.92 & 7.42 & 7.82 & 6.54 & 7.74\\\\\n\\end{tabular}\n",
            "text/markdown": "\nA matrix: 1 × 10 of type dbl\n\n| Lucia | Pedro | Ines | Luis | Andres | Ana | Carlos | Jose | Sonia | Maria |\n|---|---|---|---|---|---|---|---|---|---|\n| 7.86 | 7.64 | 8.06 | 6.8 | 7.2 | 7.92 | 7.42 | 7.82 | 6.54 | 7.74 |\n\n",
            "text/html": [
              "<table class=\"dataframe\">\n",
              "<caption>A matrix: 1 × 10 of type dbl</caption>\n",
              "<thead>\n",
              "\t<tr><th scope=col>Lucia</th><th scope=col>Pedro</th><th scope=col>Ines</th><th scope=col>Luis</th><th scope=col>Andres</th><th scope=col>Ana</th><th scope=col>Carlos</th><th scope=col>Jose</th><th scope=col>Sonia</th><th scope=col>Maria</th></tr>\n",
              "</thead>\n",
              "<tbody>\n",
              "\t<tr><td>7.86</td><td>7.64</td><td>8.06</td><td>6.8</td><td>7.2</td><td>7.92</td><td>7.42</td><td>7.82</td><td>6.54</td><td>7.74</td></tr>\n",
              "</tbody>\n",
              "</table>\n"
            ]
          },
          "metadata": {
            "tags": []
          }
        }
      ]
    },
    {
      "cell_type": "code",
      "metadata": {
        "colab": {
          "base_uri": "https://localhost:8080/",
          "height": 514
        },
        "id": "_urNbTZbhszJ",
        "outputId": "69afb0a2-f43a-49cc-9a3e-f97637d28757"
      },
      "source": [
        "vector_columna2 <- matrix(rep(1,10),nrow = 10, ncol = 1, byrow = T)\n",
        "vector_columna2\n",
        "\n",
        "media_materias <- t(1/10*t(Evaluaciones)%*%(vector_columna2))\n",
        "media_materias"
      ],
      "execution_count": null,
      "outputs": [
        {
          "output_type": "display_data",
          "data": {
            "text/plain": [
              "      [,1]\n",
              " [1,] 1   \n",
              " [2,] 1   \n",
              " [3,] 1   \n",
              " [4,] 1   \n",
              " [5,] 1   \n",
              " [6,] 1   \n",
              " [7,] 1   \n",
              " [8,] 1   \n",
              " [9,] 1   \n",
              "[10,] 1   "
            ],
            "text/latex": "A matrix: 10 × 1 of type dbl\n\\begin{tabular}{l}\n\t 1\\\\\n\t 1\\\\\n\t 1\\\\\n\t 1\\\\\n\t 1\\\\\n\t 1\\\\\n\t 1\\\\\n\t 1\\\\\n\t 1\\\\\n\t 1\\\\\n\\end{tabular}\n",
            "text/markdown": "\nA matrix: 10 × 1 of type dbl\n\n| 1 |\n| 1 |\n| 1 |\n| 1 |\n| 1 |\n| 1 |\n| 1 |\n| 1 |\n| 1 |\n| 1 |\n\n",
            "text/html": [
              "<table class=\"dataframe\">\n",
              "<caption>A matrix: 10 × 1 of type dbl</caption>\n",
              "<tbody>\n",
              "\t<tr><td>1</td></tr>\n",
              "\t<tr><td>1</td></tr>\n",
              "\t<tr><td>1</td></tr>\n",
              "\t<tr><td>1</td></tr>\n",
              "\t<tr><td>1</td></tr>\n",
              "\t<tr><td>1</td></tr>\n",
              "\t<tr><td>1</td></tr>\n",
              "\t<tr><td>1</td></tr>\n",
              "\t<tr><td>1</td></tr>\n",
              "\t<tr><td>1</td></tr>\n",
              "</tbody>\n",
              "</table>\n"
            ]
          },
          "metadata": {
            "tags": []
          }
        },
        {
          "output_type": "display_data",
          "data": {
            "text/plain": [
              "     Matematicas Ciencias Español Historia Fisica\n",
              "[1,] 6.79        7.65     7.74    7.9      7.42  "
            ],
            "text/latex": "A matrix: 1 × 5 of type dbl\n\\begin{tabular}{lllll}\n Matematicas & Ciencias & Español & Historia & Fisica\\\\\n\\hline\n\t 6.79 & 7.65 & 7.74 & 7.9 & 7.42\\\\\n\\end{tabular}\n",
            "text/markdown": "\nA matrix: 1 × 5 of type dbl\n\n| Matematicas | Ciencias | Español | Historia | Fisica |\n|---|---|---|---|---|\n| 6.79 | 7.65 | 7.74 | 7.9 | 7.42 |\n\n",
            "text/html": [
              "<table class=\"dataframe\">\n",
              "<caption>A matrix: 1 × 5 of type dbl</caption>\n",
              "<thead>\n",
              "\t<tr><th scope=col>Matematicas</th><th scope=col>Ciencias</th><th scope=col>Español</th><th scope=col>Historia</th><th scope=col>Fisica</th></tr>\n",
              "</thead>\n",
              "<tbody>\n",
              "\t<tr><td>6.79</td><td>7.65</td><td>7.74</td><td>7.9</td><td>7.42</td></tr>\n",
              "</tbody>\n",
              "</table>\n"
            ]
          },
          "metadata": {
            "tags": []
          }
        }
      ]
    },
    {
      "cell_type": "code",
      "metadata": {
        "colab": {
          "base_uri": "https://localhost:8080/",
          "height": 223
        },
        "id": "ElfNK-oi94W8",
        "outputId": "872bc096-cbe8-49ba-df31-0164d6422743"
      },
      "source": [
        "t(Evaluaciones)"
      ],
      "execution_count": null,
      "outputs": [
        {
          "output_type": "display_data",
          "data": {
            "text/plain": [
              "            Lucia Pedro Ines Luis Andres Ana Carlos Jose Sonia Maria\n",
              "Matematicas 7.0   7.5   7.6  5.0  6.0    7.8 6.3    7.9  6.0   6.8  \n",
              "Ciencias    6.5   9.4   9.2  6.5  6.0    9.6 6.4    9.7  6.0   7.2  \n",
              "Español     9.2   7.3   8.0  6.5  7.8    7.7 8.2    7.5  6.5   8.7  \n",
              "Historia    8.6   7.0   8.0  7.0  8.9    8.0 9.0    8.0  5.5   9.0  \n",
              "Fisica      8.0   7.0   7.5  9.0  7.3    6.5 7.2    6.0  8.7   7.0  "
            ],
            "text/latex": "A matrix: 5 × 10 of type dbl\n\\begin{tabular}{r|llllllllll}\n  & Lucia & Pedro & Ines & Luis & Andres & Ana & Carlos & Jose & Sonia & Maria\\\\\n\\hline\n\tMatematicas & 7.0 & 7.5 & 7.6 & 5.0 & 6.0 & 7.8 & 6.3 & 7.9 & 6.0 & 6.8\\\\\n\tCiencias & 6.5 & 9.4 & 9.2 & 6.5 & 6.0 & 9.6 & 6.4 & 9.7 & 6.0 & 7.2\\\\\n\tEspañol & 9.2 & 7.3 & 8.0 & 6.5 & 7.8 & 7.7 & 8.2 & 7.5 & 6.5 & 8.7\\\\\n\tHistoria & 8.6 & 7.0 & 8.0 & 7.0 & 8.9 & 8.0 & 9.0 & 8.0 & 5.5 & 9.0\\\\\n\tFisica & 8.0 & 7.0 & 7.5 & 9.0 & 7.3 & 6.5 & 7.2 & 6.0 & 8.7 & 7.0\\\\\n\\end{tabular}\n",
            "text/markdown": "\nA matrix: 5 × 10 of type dbl\n\n| <!--/--> | Lucia | Pedro | Ines | Luis | Andres | Ana | Carlos | Jose | Sonia | Maria |\n|---|---|---|---|---|---|---|---|---|---|---|\n| Matematicas | 7.0 | 7.5 | 7.6 | 5.0 | 6.0 | 7.8 | 6.3 | 7.9 | 6.0 | 6.8 |\n| Ciencias | 6.5 | 9.4 | 9.2 | 6.5 | 6.0 | 9.6 | 6.4 | 9.7 | 6.0 | 7.2 |\n| Español | 9.2 | 7.3 | 8.0 | 6.5 | 7.8 | 7.7 | 8.2 | 7.5 | 6.5 | 8.7 |\n| Historia | 8.6 | 7.0 | 8.0 | 7.0 | 8.9 | 8.0 | 9.0 | 8.0 | 5.5 | 9.0 |\n| Fisica | 8.0 | 7.0 | 7.5 | 9.0 | 7.3 | 6.5 | 7.2 | 6.0 | 8.7 | 7.0 |\n\n",
            "text/html": [
              "<table class=\"dataframe\">\n",
              "<caption>A matrix: 5 × 10 of type dbl</caption>\n",
              "<thead>\n",
              "\t<tr><th></th><th scope=col>Lucia</th><th scope=col>Pedro</th><th scope=col>Ines</th><th scope=col>Luis</th><th scope=col>Andres</th><th scope=col>Ana</th><th scope=col>Carlos</th><th scope=col>Jose</th><th scope=col>Sonia</th><th scope=col>Maria</th></tr>\n",
              "</thead>\n",
              "<tbody>\n",
              "\t<tr><th scope=row>Matematicas</th><td>7.0</td><td>7.5</td><td>7.6</td><td>5.0</td><td>6.0</td><td>7.8</td><td>6.3</td><td>7.9</td><td>6.0</td><td>6.8</td></tr>\n",
              "\t<tr><th scope=row>Ciencias</th><td>6.5</td><td>9.4</td><td>9.2</td><td>6.5</td><td>6.0</td><td>9.6</td><td>6.4</td><td>9.7</td><td>6.0</td><td>7.2</td></tr>\n",
              "\t<tr><th scope=row>Español</th><td>9.2</td><td>7.3</td><td>8.0</td><td>6.5</td><td>7.8</td><td>7.7</td><td>8.2</td><td>7.5</td><td>6.5</td><td>8.7</td></tr>\n",
              "\t<tr><th scope=row>Historia</th><td>8.6</td><td>7.0</td><td>8.0</td><td>7.0</td><td>8.9</td><td>8.0</td><td>9.0</td><td>8.0</td><td>5.5</td><td>9.0</td></tr>\n",
              "\t<tr><th scope=row>Fisica</th><td>8.0</td><td>7.0</td><td>7.5</td><td>9.0</td><td>7.3</td><td>6.5</td><td>7.2</td><td>6.0</td><td>8.7</td><td>7.0</td></tr>\n",
              "</tbody>\n",
              "</table>\n"
            ]
          },
          "metadata": {
            "tags": []
          }
        }
      ]
    },
    {
      "cell_type": "code",
      "metadata": {
        "colab": {
          "base_uri": "https://localhost:8080/",
          "height": 346
        },
        "id": "7Pb3U1aB-FfP",
        "outputId": "7a71af4f-4718-482e-950b-75cb6bae1f04"
      },
      "source": [
        "identidad1 <- diag(1,nrow = 10, ncol = 10)\n",
        "identidad1"
      ],
      "execution_count": null,
      "outputs": [
        {
          "output_type": "display_data",
          "data": {
            "text/plain": [
              "      [,1] [,2] [,3] [,4] [,5] [,6] [,7] [,8] [,9] [,10]\n",
              " [1,] 1    0    0    0    0    0    0    0    0    0    \n",
              " [2,] 0    1    0    0    0    0    0    0    0    0    \n",
              " [3,] 0    0    1    0    0    0    0    0    0    0    \n",
              " [4,] 0    0    0    1    0    0    0    0    0    0    \n",
              " [5,] 0    0    0    0    1    0    0    0    0    0    \n",
              " [6,] 0    0    0    0    0    1    0    0    0    0    \n",
              " [7,] 0    0    0    0    0    0    1    0    0    0    \n",
              " [8,] 0    0    0    0    0    0    0    1    0    0    \n",
              " [9,] 0    0    0    0    0    0    0    0    1    0    \n",
              "[10,] 0    0    0    0    0    0    0    0    0    1    "
            ],
            "text/latex": "A matrix: 10 × 10 of type dbl\n\\begin{tabular}{llllllllll}\n\t 1 & 0 & 0 & 0 & 0 & 0 & 0 & 0 & 0 & 0\\\\\n\t 0 & 1 & 0 & 0 & 0 & 0 & 0 & 0 & 0 & 0\\\\\n\t 0 & 0 & 1 & 0 & 0 & 0 & 0 & 0 & 0 & 0\\\\\n\t 0 & 0 & 0 & 1 & 0 & 0 & 0 & 0 & 0 & 0\\\\\n\t 0 & 0 & 0 & 0 & 1 & 0 & 0 & 0 & 0 & 0\\\\\n\t 0 & 0 & 0 & 0 & 0 & 1 & 0 & 0 & 0 & 0\\\\\n\t 0 & 0 & 0 & 0 & 0 & 0 & 1 & 0 & 0 & 0\\\\\n\t 0 & 0 & 0 & 0 & 0 & 0 & 0 & 1 & 0 & 0\\\\\n\t 0 & 0 & 0 & 0 & 0 & 0 & 0 & 0 & 1 & 0\\\\\n\t 0 & 0 & 0 & 0 & 0 & 0 & 0 & 0 & 0 & 1\\\\\n\\end{tabular}\n",
            "text/markdown": "\nA matrix: 10 × 10 of type dbl\n\n| 1 | 0 | 0 | 0 | 0 | 0 | 0 | 0 | 0 | 0 |\n| 0 | 1 | 0 | 0 | 0 | 0 | 0 | 0 | 0 | 0 |\n| 0 | 0 | 1 | 0 | 0 | 0 | 0 | 0 | 0 | 0 |\n| 0 | 0 | 0 | 1 | 0 | 0 | 0 | 0 | 0 | 0 |\n| 0 | 0 | 0 | 0 | 1 | 0 | 0 | 0 | 0 | 0 |\n| 0 | 0 | 0 | 0 | 0 | 1 | 0 | 0 | 0 | 0 |\n| 0 | 0 | 0 | 0 | 0 | 0 | 1 | 0 | 0 | 0 |\n| 0 | 0 | 0 | 0 | 0 | 0 | 0 | 1 | 0 | 0 |\n| 0 | 0 | 0 | 0 | 0 | 0 | 0 | 0 | 1 | 0 |\n| 0 | 0 | 0 | 0 | 0 | 0 | 0 | 0 | 0 | 1 |\n\n",
            "text/html": [
              "<table class=\"dataframe\">\n",
              "<caption>A matrix: 10 × 10 of type dbl</caption>\n",
              "<tbody>\n",
              "\t<tr><td>1</td><td>0</td><td>0</td><td>0</td><td>0</td><td>0</td><td>0</td><td>0</td><td>0</td><td>0</td></tr>\n",
              "\t<tr><td>0</td><td>1</td><td>0</td><td>0</td><td>0</td><td>0</td><td>0</td><td>0</td><td>0</td><td>0</td></tr>\n",
              "\t<tr><td>0</td><td>0</td><td>1</td><td>0</td><td>0</td><td>0</td><td>0</td><td>0</td><td>0</td><td>0</td></tr>\n",
              "\t<tr><td>0</td><td>0</td><td>0</td><td>1</td><td>0</td><td>0</td><td>0</td><td>0</td><td>0</td><td>0</td></tr>\n",
              "\t<tr><td>0</td><td>0</td><td>0</td><td>0</td><td>1</td><td>0</td><td>0</td><td>0</td><td>0</td><td>0</td></tr>\n",
              "\t<tr><td>0</td><td>0</td><td>0</td><td>0</td><td>0</td><td>1</td><td>0</td><td>0</td><td>0</td><td>0</td></tr>\n",
              "\t<tr><td>0</td><td>0</td><td>0</td><td>0</td><td>0</td><td>0</td><td>1</td><td>0</td><td>0</td><td>0</td></tr>\n",
              "\t<tr><td>0</td><td>0</td><td>0</td><td>0</td><td>0</td><td>0</td><td>0</td><td>1</td><td>0</td><td>0</td></tr>\n",
              "\t<tr><td>0</td><td>0</td><td>0</td><td>0</td><td>0</td><td>0</td><td>0</td><td>0</td><td>1</td><td>0</td></tr>\n",
              "\t<tr><td>0</td><td>0</td><td>0</td><td>0</td><td>0</td><td>0</td><td>0</td><td>0</td><td>0</td><td>1</td></tr>\n",
              "</tbody>\n",
              "</table>\n"
            ]
          },
          "metadata": {
            "tags": []
          }
        }
      ]
    },
    {
      "cell_type": "code",
      "metadata": {
        "colab": {
          "base_uri": "https://localhost:8080/",
          "height": 433
        },
        "id": "Y5pYWpMk_M5e",
        "outputId": "066f4c8c-6300-4e41-bd79-046585b322c0"
      },
      "source": [
        "unos <- matrix(rep(1,10),nrow = 10, ncol = 1, byrow = T)\n",
        "unos"
      ],
      "execution_count": null,
      "outputs": [
        {
          "output_type": "display_data",
          "data": {
            "text/plain": [
              "      [,1]\n",
              " [1,] 1   \n",
              " [2,] 1   \n",
              " [3,] 1   \n",
              " [4,] 1   \n",
              " [5,] 1   \n",
              " [6,] 1   \n",
              " [7,] 1   \n",
              " [8,] 1   \n",
              " [9,] 1   \n",
              "[10,] 1   "
            ],
            "text/latex": "A matrix: 10 × 1 of type dbl\n\\begin{tabular}{l}\n\t 1\\\\\n\t 1\\\\\n\t 1\\\\\n\t 1\\\\\n\t 1\\\\\n\t 1\\\\\n\t 1\\\\\n\t 1\\\\\n\t 1\\\\\n\t 1\\\\\n\\end{tabular}\n",
            "text/markdown": "\nA matrix: 10 × 1 of type dbl\n\n| 1 |\n| 1 |\n| 1 |\n| 1 |\n| 1 |\n| 1 |\n| 1 |\n| 1 |\n| 1 |\n| 1 |\n\n",
            "text/html": [
              "<table class=\"dataframe\">\n",
              "<caption>A matrix: 10 × 1 of type dbl</caption>\n",
              "<tbody>\n",
              "\t<tr><td>1</td></tr>\n",
              "\t<tr><td>1</td></tr>\n",
              "\t<tr><td>1</td></tr>\n",
              "\t<tr><td>1</td></tr>\n",
              "\t<tr><td>1</td></tr>\n",
              "\t<tr><td>1</td></tr>\n",
              "\t<tr><td>1</td></tr>\n",
              "\t<tr><td>1</td></tr>\n",
              "\t<tr><td>1</td></tr>\n",
              "\t<tr><td>1</td></tr>\n",
              "</tbody>\n",
              "</table>\n"
            ]
          },
          "metadata": {
            "tags": []
          }
        }
      ]
    },
    {
      "cell_type": "code",
      "metadata": {
        "colab": {
          "base_uri": "https://localhost:8080/",
          "height": 223
        },
        "id": "Wt4ZTWKY9i9a",
        "outputId": "8ce5347f-02bc-444a-92df-f4ec50ff18f1"
      },
      "source": [
        "S_materias <- 1/9*t(Evaluaciones)%*%(identidad1 - 1/10*unos %*% t(unos))%*% Evaluaciones\n",
        "S_materias"
      ],
      "execution_count": null,
      "outputs": [
        {
          "output_type": "display_data",
          "data": {
            "text/plain": [
              "            Matematicas Ciencias    Español     Historia    Fisica    \n",
              "Matematicas  0.9054444   1.30833333  0.31488889  0.22111111 -0.6953333\n",
              "Ciencias     1.3083333   2.59166667 -0.02777778 -0.03888889 -1.0277778\n",
              "Español      0.3148889  -0.02777778  0.74044444  0.79222222 -0.2920000\n",
              "Historia     0.2211111  -0.03888889  0.79222222  1.25777778 -0.5288889\n",
              "Fisica      -0.6953333  -1.02777778 -0.29200000 -0.52888889  0.8617778"
            ],
            "text/latex": "A matrix: 5 × 5 of type dbl\n\\begin{tabular}{r|lllll}\n  & Matematicas & Ciencias & Español & Historia & Fisica\\\\\n\\hline\n\tMatematicas &  0.9054444 &  1.30833333 &  0.31488889 &  0.22111111 & -0.6953333\\\\\n\tCiencias &  1.3083333 &  2.59166667 & -0.02777778 & -0.03888889 & -1.0277778\\\\\n\tEspañol &  0.3148889 & -0.02777778 &  0.74044444 &  0.79222222 & -0.2920000\\\\\n\tHistoria &  0.2211111 & -0.03888889 &  0.79222222 &  1.25777778 & -0.5288889\\\\\n\tFisica & -0.6953333 & -1.02777778 & -0.29200000 & -0.52888889 &  0.8617778\\\\\n\\end{tabular}\n",
            "text/markdown": "\nA matrix: 5 × 5 of type dbl\n\n| <!--/--> | Matematicas | Ciencias | Español | Historia | Fisica |\n|---|---|---|---|---|---|\n| Matematicas |  0.9054444 |  1.30833333 |  0.31488889 |  0.22111111 | -0.6953333 |\n| Ciencias |  1.3083333 |  2.59166667 | -0.02777778 | -0.03888889 | -1.0277778 |\n| Español |  0.3148889 | -0.02777778 |  0.74044444 |  0.79222222 | -0.2920000 |\n| Historia |  0.2211111 | -0.03888889 |  0.79222222 |  1.25777778 | -0.5288889 |\n| Fisica | -0.6953333 | -1.02777778 | -0.29200000 | -0.52888889 |  0.8617778 |\n\n",
            "text/html": [
              "<table class=\"dataframe\">\n",
              "<caption>A matrix: 5 × 5 of type dbl</caption>\n",
              "<thead>\n",
              "\t<tr><th></th><th scope=col>Matematicas</th><th scope=col>Ciencias</th><th scope=col>Español</th><th scope=col>Historia</th><th scope=col>Fisica</th></tr>\n",
              "</thead>\n",
              "<tbody>\n",
              "\t<tr><th scope=row>Matematicas</th><td> 0.9054444</td><td> 1.30833333</td><td> 0.31488889</td><td> 0.22111111</td><td>-0.6953333</td></tr>\n",
              "\t<tr><th scope=row>Ciencias</th><td> 1.3083333</td><td> 2.59166667</td><td>-0.02777778</td><td>-0.03888889</td><td>-1.0277778</td></tr>\n",
              "\t<tr><th scope=row>Español</th><td> 0.3148889</td><td>-0.02777778</td><td> 0.74044444</td><td> 0.79222222</td><td>-0.2920000</td></tr>\n",
              "\t<tr><th scope=row>Historia</th><td> 0.2211111</td><td>-0.03888889</td><td> 0.79222222</td><td> 1.25777778</td><td>-0.5288889</td></tr>\n",
              "\t<tr><th scope=row>Fisica</th><td>-0.6953333</td><td>-1.02777778</td><td>-0.29200000</td><td>-0.52888889</td><td> 0.8617778</td></tr>\n",
              "</tbody>\n",
              "</table>\n"
            ]
          },
          "metadata": {
            "tags": []
          }
        }
      ]
    },
    {
      "cell_type": "code",
      "metadata": {
        "id": "a8loaV7lEgpL"
      },
      "source": [
        "identidad2 <- diag(1,nrow = 5, ncol = 5)"
      ],
      "execution_count": null,
      "outputs": []
    },
    {
      "cell_type": "code",
      "metadata": {
        "colab": {
          "base_uri": "https://localhost:8080/",
          "height": 277
        },
        "id": "5NrOf-cBFEre",
        "outputId": "b70e49c5-7082-4f19-8c8a-26a486e72cd0"
      },
      "source": [
        "unos2 <- matrix(rep(1,5), nrow = 5, ncol = 1, byrow = T)\n",
        "unos2"
      ],
      "execution_count": null,
      "outputs": [
        {
          "output_type": "display_data",
          "data": {
            "text/plain": [
              "     [,1]\n",
              "[1,] 1   \n",
              "[2,] 1   \n",
              "[3,] 1   \n",
              "[4,] 1   \n",
              "[5,] 1   "
            ],
            "text/latex": "A matrix: 5 × 1 of type dbl\n\\begin{tabular}{l}\n\t 1\\\\\n\t 1\\\\\n\t 1\\\\\n\t 1\\\\\n\t 1\\\\\n\\end{tabular}\n",
            "text/markdown": "\nA matrix: 5 × 1 of type dbl\n\n| 1 |\n| 1 |\n| 1 |\n| 1 |\n| 1 |\n\n",
            "text/html": [
              "<table class=\"dataframe\">\n",
              "<caption>A matrix: 5 × 1 of type dbl</caption>\n",
              "<tbody>\n",
              "\t<tr><td>1</td></tr>\n",
              "\t<tr><td>1</td></tr>\n",
              "\t<tr><td>1</td></tr>\n",
              "\t<tr><td>1</td></tr>\n",
              "\t<tr><td>1</td></tr>\n",
              "</tbody>\n",
              "</table>\n"
            ]
          },
          "metadata": {
            "tags": []
          }
        }
      ]
    },
    {
      "cell_type": "code",
      "metadata": {
        "colab": {
          "base_uri": "https://localhost:8080/",
          "height": 379
        },
        "id": "BHdnVF2gERI4",
        "outputId": "1cbb392c-f4e1-4865-9be1-c57435b87227"
      },
      "source": [
        "S_alumnos <- 1/4* Evaluaciones %*% (identidad2 - 1/5 * unos2 %*% t(unos2)) %*% t(Evaluaciones)\n",
        "S_alumnos"
      ],
      "execution_count": null,
      "outputs": [
        {
          "output_type": "display_data",
          "data": {
            "text/plain": [
              "       Lucia   Pedro   Ines    Luis    Andres  Ana     Carlos  Jose    Sonia  \n",
              "Lucia   1.2380 -0.8230 -0.3395  0.5025  1.1850 -0.6540  1.1335 -0.7940  0.1695\n",
              "Pedro  -0.8230  1.0130  0.6220 -0.4275 -0.8250  0.9765 -0.6935  1.1140 -0.3945\n",
              "Ines   -0.3395  0.6220  0.4580 -0.1850 -0.2525  0.6935 -0.1665  0.7835 -0.3780\n",
              "Luis    0.5025 -0.4275 -0.1850  2.0750  0.7250 -0.8325  0.4800 -1.1450  1.4225\n",
              "Andres  1.1850 -0.8250 -0.2525  0.7250  1.5350 -0.5025  1.4250 -0.6050 -0.0700\n",
              "Ana    -0.6540  0.9765  0.6935 -0.8325 -0.5025  1.2270 -0.3280  1.4545 -0.9960\n",
              "Carlos  1.1335 -0.6935 -0.1665  0.4800  1.4250 -0.3280  1.3620 -0.3930 -0.2485\n",
              "Jose   -0.7940  1.1140  0.7835 -1.1450 -0.6050  1.4545 -0.3930  1.7470 -1.2910\n",
              "Sonia   0.1695 -0.3945 -0.3780  1.4225 -0.0700 -0.9960 -0.2485 -1.2910  1.5830\n",
              "Maria   0.9145 -0.3695  0.0245  0.0475  1.1050  0.0365  1.1265  0.0440 -0.5370\n",
              "       Maria  \n",
              "Lucia   0.9145\n",
              "Pedro  -0.3695\n",
              "Ines    0.0245\n",
              "Luis    0.0475\n",
              "Andres  1.1050\n",
              "Ana     0.0365\n",
              "Carlos  1.1265\n",
              "Jose    0.0440\n",
              "Sonia  -0.5370\n",
              "Maria   1.0580"
            ],
            "text/latex": "A matrix: 10 × 10 of type dbl\n\\begin{tabular}{r|llllllllll}\n  & Lucia & Pedro & Ines & Luis & Andres & Ana & Carlos & Jose & Sonia & Maria\\\\\n\\hline\n\tLucia &  1.2380 & -0.8230 & -0.3395 &  0.5025 &  1.1850 & -0.6540 &  1.1335 & -0.7940 &  0.1695 &  0.9145\\\\\n\tPedro & -0.8230 &  1.0130 &  0.6220 & -0.4275 & -0.8250 &  0.9765 & -0.6935 &  1.1140 & -0.3945 & -0.3695\\\\\n\tInes & -0.3395 &  0.6220 &  0.4580 & -0.1850 & -0.2525 &  0.6935 & -0.1665 &  0.7835 & -0.3780 &  0.0245\\\\\n\tLuis &  0.5025 & -0.4275 & -0.1850 &  2.0750 &  0.7250 & -0.8325 &  0.4800 & -1.1450 &  1.4225 &  0.0475\\\\\n\tAndres &  1.1850 & -0.8250 & -0.2525 &  0.7250 &  1.5350 & -0.5025 &  1.4250 & -0.6050 & -0.0700 &  1.1050\\\\\n\tAna & -0.6540 &  0.9765 &  0.6935 & -0.8325 & -0.5025 &  1.2270 & -0.3280 &  1.4545 & -0.9960 &  0.0365\\\\\n\tCarlos &  1.1335 & -0.6935 & -0.1665 &  0.4800 &  1.4250 & -0.3280 &  1.3620 & -0.3930 & -0.2485 &  1.1265\\\\\n\tJose & -0.7940 &  1.1140 &  0.7835 & -1.1450 & -0.6050 &  1.4545 & -0.3930 &  1.7470 & -1.2910 &  0.0440\\\\\n\tSonia &  0.1695 & -0.3945 & -0.3780 &  1.4225 & -0.0700 & -0.9960 & -0.2485 & -1.2910 &  1.5830 & -0.5370\\\\\n\tMaria &  0.9145 & -0.3695 &  0.0245 &  0.0475 &  1.1050 &  0.0365 &  1.1265 &  0.0440 & -0.5370 &  1.0580\\\\\n\\end{tabular}\n",
            "text/markdown": "\nA matrix: 10 × 10 of type dbl\n\n| <!--/--> | Lucia | Pedro | Ines | Luis | Andres | Ana | Carlos | Jose | Sonia | Maria |\n|---|---|---|---|---|---|---|---|---|---|---|\n| Lucia |  1.2380 | -0.8230 | -0.3395 |  0.5025 |  1.1850 | -0.6540 |  1.1335 | -0.7940 |  0.1695 |  0.9145 |\n| Pedro | -0.8230 |  1.0130 |  0.6220 | -0.4275 | -0.8250 |  0.9765 | -0.6935 |  1.1140 | -0.3945 | -0.3695 |\n| Ines | -0.3395 |  0.6220 |  0.4580 | -0.1850 | -0.2525 |  0.6935 | -0.1665 |  0.7835 | -0.3780 |  0.0245 |\n| Luis |  0.5025 | -0.4275 | -0.1850 |  2.0750 |  0.7250 | -0.8325 |  0.4800 | -1.1450 |  1.4225 |  0.0475 |\n| Andres |  1.1850 | -0.8250 | -0.2525 |  0.7250 |  1.5350 | -0.5025 |  1.4250 | -0.6050 | -0.0700 |  1.1050 |\n| Ana | -0.6540 |  0.9765 |  0.6935 | -0.8325 | -0.5025 |  1.2270 | -0.3280 |  1.4545 | -0.9960 |  0.0365 |\n| Carlos |  1.1335 | -0.6935 | -0.1665 |  0.4800 |  1.4250 | -0.3280 |  1.3620 | -0.3930 | -0.2485 |  1.1265 |\n| Jose | -0.7940 |  1.1140 |  0.7835 | -1.1450 | -0.6050 |  1.4545 | -0.3930 |  1.7470 | -1.2910 |  0.0440 |\n| Sonia |  0.1695 | -0.3945 | -0.3780 |  1.4225 | -0.0700 | -0.9960 | -0.2485 | -1.2910 |  1.5830 | -0.5370 |\n| Maria |  0.9145 | -0.3695 |  0.0245 |  0.0475 |  1.1050 |  0.0365 |  1.1265 |  0.0440 | -0.5370 |  1.0580 |\n\n",
            "text/html": [
              "<table class=\"dataframe\">\n",
              "<caption>A matrix: 10 × 10 of type dbl</caption>\n",
              "<thead>\n",
              "\t<tr><th></th><th scope=col>Lucia</th><th scope=col>Pedro</th><th scope=col>Ines</th><th scope=col>Luis</th><th scope=col>Andres</th><th scope=col>Ana</th><th scope=col>Carlos</th><th scope=col>Jose</th><th scope=col>Sonia</th><th scope=col>Maria</th></tr>\n",
              "</thead>\n",
              "<tbody>\n",
              "\t<tr><th scope=row>Lucia</th><td> 1.2380</td><td>-0.8230</td><td>-0.3395</td><td> 0.5025</td><td> 1.1850</td><td>-0.6540</td><td> 1.1335</td><td>-0.7940</td><td> 0.1695</td><td> 0.9145</td></tr>\n",
              "\t<tr><th scope=row>Pedro</th><td>-0.8230</td><td> 1.0130</td><td> 0.6220</td><td>-0.4275</td><td>-0.8250</td><td> 0.9765</td><td>-0.6935</td><td> 1.1140</td><td>-0.3945</td><td>-0.3695</td></tr>\n",
              "\t<tr><th scope=row>Ines</th><td>-0.3395</td><td> 0.6220</td><td> 0.4580</td><td>-0.1850</td><td>-0.2525</td><td> 0.6935</td><td>-0.1665</td><td> 0.7835</td><td>-0.3780</td><td> 0.0245</td></tr>\n",
              "\t<tr><th scope=row>Luis</th><td> 0.5025</td><td>-0.4275</td><td>-0.1850</td><td> 2.0750</td><td> 0.7250</td><td>-0.8325</td><td> 0.4800</td><td>-1.1450</td><td> 1.4225</td><td> 0.0475</td></tr>\n",
              "\t<tr><th scope=row>Andres</th><td> 1.1850</td><td>-0.8250</td><td>-0.2525</td><td> 0.7250</td><td> 1.5350</td><td>-0.5025</td><td> 1.4250</td><td>-0.6050</td><td>-0.0700</td><td> 1.1050</td></tr>\n",
              "\t<tr><th scope=row>Ana</th><td>-0.6540</td><td> 0.9765</td><td> 0.6935</td><td>-0.8325</td><td>-0.5025</td><td> 1.2270</td><td>-0.3280</td><td> 1.4545</td><td>-0.9960</td><td> 0.0365</td></tr>\n",
              "\t<tr><th scope=row>Carlos</th><td> 1.1335</td><td>-0.6935</td><td>-0.1665</td><td> 0.4800</td><td> 1.4250</td><td>-0.3280</td><td> 1.3620</td><td>-0.3930</td><td>-0.2485</td><td> 1.1265</td></tr>\n",
              "\t<tr><th scope=row>Jose</th><td>-0.7940</td><td> 1.1140</td><td> 0.7835</td><td>-1.1450</td><td>-0.6050</td><td> 1.4545</td><td>-0.3930</td><td> 1.7470</td><td>-1.2910</td><td> 0.0440</td></tr>\n",
              "\t<tr><th scope=row>Sonia</th><td> 0.1695</td><td>-0.3945</td><td>-0.3780</td><td> 1.4225</td><td>-0.0700</td><td>-0.9960</td><td>-0.2485</td><td>-1.2910</td><td> 1.5830</td><td>-0.5370</td></tr>\n",
              "\t<tr><th scope=row>Maria</th><td> 0.9145</td><td>-0.3695</td><td> 0.0245</td><td> 0.0475</td><td> 1.1050</td><td> 0.0365</td><td> 1.1265</td><td> 0.0440</td><td>-0.5370</td><td> 1.0580</td></tr>\n",
              "</tbody>\n",
              "</table>\n"
            ]
          },
          "metadata": {
            "tags": []
          }
        }
      ]
    },
    {
      "cell_type": "code",
      "metadata": {
        "colab": {
          "base_uri": "https://localhost:8080/",
          "height": 86
        },
        "id": "IgY5MwKeGR_M",
        "outputId": "a538f2a5-67b2-4aff-a33c-b3089afd62cf"
      },
      "source": [
        "sd_materias <- sqrt(diag(S_materias))\n",
        "sd_materias\n",
        "\n",
        "sd_alumno <- sqrt(diag(S_alumnos))\n",
        "sd_alumno"
      ],
      "execution_count": null,
      "outputs": [
        {
          "output_type": "display_data",
          "data": {
            "text/plain": [
              "Matematicas    Ciencias     Español    Historia      Fisica \n",
              "  0.9515484   1.6098654   0.8604908   1.1215069   0.9283199 "
            ],
            "text/latex": "\\begin{description*}\n\\item[Matematicas] 0.951548445663407\n\\item[Ciencias] 1.60986541880577\n\\item[Español] 0.860490816014\n\\item[Historia] 1.12150692275071\n\\item[Fisica] 0.928319868244656\n\\end{description*}\n",
            "text/markdown": "Matematicas\n:   0.951548445663407Ciencias\n:   1.60986541880577Español\n:   0.860490816014Historia\n:   1.12150692275071Fisica\n:   0.928319868244656\n\n",
            "text/html": [
              "<style>\n",
              ".dl-inline {width: auto; margin:0; padding: 0}\n",
              ".dl-inline>dt, .dl-inline>dd {float: none; width: auto; display: inline-block}\n",
              ".dl-inline>dt::after {content: \":\\0020\"; padding-right: .5ex}\n",
              ".dl-inline>dt:not(:first-of-type) {padding-left: .5ex}\n",
              "</style><dl class=dl-inline><dt>Matematicas</dt><dd>0.951548445663407</dd><dt>Ciencias</dt><dd>1.60986541880577</dd><dt>Español</dt><dd>0.860490816014</dd><dt>Historia</dt><dd>1.12150692275071</dd><dt>Fisica</dt><dd>0.928319868244656</dd></dl>\n"
            ]
          },
          "metadata": {
            "tags": []
          }
        },
        {
          "output_type": "display_data",
          "data": {
            "text/plain": [
              "   Lucia    Pedro     Ines     Luis   Andres      Ana   Carlos     Jose \n",
              "1.112654 1.006479 0.676757 1.440486 1.238951 1.107700 1.167048 1.321741 \n",
              "   Sonia    Maria \n",
              "1.258173 1.028591 "
            ],
            "text/latex": "\\begin{description*}\n\\item[Lucia] 1.11265448365609\n\\item[Pedro] 1.00647901120689\n\\item[Ines] 0.676756972627546\n\\item[Luis] 1.44048602908879\n\\item[Andres] 1.23895116933639\n\\item[Ana] 1.10770032048384\n\\item[Carlos] 1.16704755687161\n\\item[Jose] 1.32174127574196\n\\item[Sonia] 1.25817327900413\n\\item[Maria] 1.0285912696499\n\\end{description*}\n",
            "text/markdown": "Lucia\n:   1.11265448365609Pedro\n:   1.00647901120689Ines\n:   0.676756972627546Luis\n:   1.44048602908879Andres\n:   1.23895116933639Ana\n:   1.10770032048384Carlos\n:   1.16704755687161Jose\n:   1.32174127574196Sonia\n:   1.25817327900413Maria\n:   1.0285912696499\n\n",
            "text/html": [
              "<style>\n",
              ".dl-inline {width: auto; margin:0; padding: 0}\n",
              ".dl-inline>dt, .dl-inline>dd {float: none; width: auto; display: inline-block}\n",
              ".dl-inline>dt::after {content: \":\\0020\"; padding-right: .5ex}\n",
              ".dl-inline>dt:not(:first-of-type) {padding-left: .5ex}\n",
              "</style><dl class=dl-inline><dt>Lucia</dt><dd>1.11265448365609</dd><dt>Pedro</dt><dd>1.00647901120689</dd><dt>Ines</dt><dd>0.676756972627546</dd><dt>Luis</dt><dd>1.44048602908879</dd><dt>Andres</dt><dd>1.23895116933639</dd><dt>Ana</dt><dd>1.10770032048384</dd><dt>Carlos</dt><dd>1.16704755687161</dd><dt>Jose</dt><dd>1.32174127574196</dd><dt>Sonia</dt><dd>1.25817327900413</dd><dt>Maria</dt><dd>1.0285912696499</dd></dl>\n"
            ]
          },
          "metadata": {
            "tags": []
          }
        }
      ]
    },
    {
      "cell_type": "code",
      "metadata": {
        "colab": {
          "base_uri": "https://localhost:8080/",
          "height": 52
        },
        "id": "GE_T2HGAIAje",
        "outputId": "fce05c5d-4651-464b-dc19-cdbd9a0ca342"
      },
      "source": [
        "traza_materias <- sum(diag(S_materias))\n",
        "traza_materias\n",
        "\n",
        "traza_alumno <- sum(diag(S_alumnos))\n",
        "traza_alumno"
      ],
      "execution_count": null,
      "outputs": [
        {
          "output_type": "display_data",
          "data": {
            "text/plain": [
              "[1] 6.357111"
            ],
            "text/latex": "6.3571111111111",
            "text/markdown": "6.3571111111111",
            "text/html": [
              "6.3571111111111"
            ]
          },
          "metadata": {
            "tags": []
          }
        },
        {
          "output_type": "display_data",
          "data": {
            "text/plain": [
              "[1] 13.296"
            ],
            "text/latex": "13.296",
            "text/markdown": "13.296",
            "text/html": [
              "13.296"
            ]
          },
          "metadata": {
            "tags": []
          }
        }
      ]
    },
    {
      "cell_type": "code",
      "metadata": {
        "colab": {
          "base_uri": "https://localhost:8080/",
          "height": 52
        },
        "id": "bszl-4ChIncl",
        "outputId": "1df4327d-61eb-48e1-8e01-855493bb2974"
      },
      "source": [
        "det(S_alumnos)\n",
        "det(S_materias)"
      ],
      "execution_count": null,
      "outputs": [
        {
          "output_type": "display_data",
          "data": {
            "text/plain": [
              "[1] -8.067358e-92"
            ],
            "text/latex": "-8.06735777431832e-92",
            "text/markdown": "-8.06735777431832e-92",
            "text/html": [
              "-8.06735777431832e-92"
            ]
          },
          "metadata": {
            "tags": []
          }
        },
        {
          "output_type": "display_data",
          "data": {
            "text/plain": [
              "[1] 0.003353316"
            ],
            "text/latex": "0.00335331591795648",
            "text/markdown": "0.00335331591795648",
            "text/html": [
              "0.00335331591795648"
            ]
          },
          "metadata": {
            "tags": []
          }
        }
      ]
    },
    {
      "cell_type": "code",
      "metadata": {
        "colab": {
          "base_uri": "https://localhost:8080/",
          "height": 98
        },
        "id": "yuuTGJOIOZx7",
        "outputId": "e6666b31-02db-455d-a447-df9822d1bfdd"
      },
      "source": [
        "media_materias\n"
      ],
      "execution_count": null,
      "outputs": [
        {
          "output_type": "display_data",
          "data": {
            "text/plain": [
              "     Matematicas Ciencias Español Historia Fisica\n",
              "[1,] 6.79        7.65     7.74    7.9      7.42  "
            ],
            "text/latex": "A matrix: 1 × 5 of type dbl\n\\begin{tabular}{lllll}\n Matematicas & Ciencias & Español & Historia & Fisica\\\\\n\\hline\n\t 6.79 & 7.65 & 7.74 & 7.9 & 7.42\\\\\n\\end{tabular}\n",
            "text/markdown": "\nA matrix: 1 × 5 of type dbl\n\n| Matematicas | Ciencias | Español | Historia | Fisica |\n|---|---|---|---|---|\n| 6.79 | 7.65 | 7.74 | 7.9 | 7.42 |\n\n",
            "text/html": [
              "<table class=\"dataframe\">\n",
              "<caption>A matrix: 1 × 5 of type dbl</caption>\n",
              "<thead>\n",
              "\t<tr><th scope=col>Matematicas</th><th scope=col>Ciencias</th><th scope=col>Español</th><th scope=col>Historia</th><th scope=col>Fisica</th></tr>\n",
              "</thead>\n",
              "<tbody>\n",
              "\t<tr><td>6.79</td><td>7.65</td><td>7.74</td><td>7.9</td><td>7.42</td></tr>\n",
              "</tbody>\n",
              "</table>\n"
            ]
          },
          "metadata": {
            "tags": []
          }
        }
      ]
    },
    {
      "cell_type": "code",
      "metadata": {
        "id": "NF5lt_SAPQSH"
      },
      "source": [
        ""
      ],
      "execution_count": null,
      "outputs": []
    },
    {
      "cell_type": "code",
      "metadata": {
        "colab": {
          "base_uri": "https://localhost:8080/",
          "height": 450
        },
        "id": "rlw6lbCLPV8S",
        "outputId": "68aabbf4-5bfd-437b-ad39-b38af2aef3ff"
      },
      "source": [
        "dim(Evaluaciones)\n",
        "unos"
      ],
      "execution_count": null,
      "outputs": [
        {
          "output_type": "display_data",
          "data": {
            "text/plain": [
              "[1] 10  5"
            ],
            "text/latex": "\\begin{enumerate*}\n\\item 10\n\\item 5\n\\end{enumerate*}\n",
            "text/markdown": "1. 10\n2. 5\n\n\n",
            "text/html": [
              "<style>\n",
              ".list-inline {list-style: none; margin:0; padding: 0}\n",
              ".list-inline>li {display: inline-block}\n",
              ".list-inline>li:not(:last-child)::after {content: \"\\00b7\"; padding: 0 .5ex}\n",
              "</style>\n",
              "<ol class=list-inline><li>10</li><li>5</li></ol>\n"
            ]
          },
          "metadata": {
            "tags": []
          }
        },
        {
          "output_type": "display_data",
          "data": {
            "text/plain": [
              "      [,1]\n",
              " [1,] 1   \n",
              " [2,] 1   \n",
              " [3,] 1   \n",
              " [4,] 1   \n",
              " [5,] 1   \n",
              " [6,] 1   \n",
              " [7,] 1   \n",
              " [8,] 1   \n",
              " [9,] 1   \n",
              "[10,] 1   "
            ],
            "text/latex": "A matrix: 10 × 1 of type dbl\n\\begin{tabular}{l}\n\t 1\\\\\n\t 1\\\\\n\t 1\\\\\n\t 1\\\\\n\t 1\\\\\n\t 1\\\\\n\t 1\\\\\n\t 1\\\\\n\t 1\\\\\n\t 1\\\\\n\\end{tabular}\n",
            "text/markdown": "\nA matrix: 10 × 1 of type dbl\n\n| 1 |\n| 1 |\n| 1 |\n| 1 |\n| 1 |\n| 1 |\n| 1 |\n| 1 |\n| 1 |\n| 1 |\n\n",
            "text/html": [
              "<table class=\"dataframe\">\n",
              "<caption>A matrix: 10 × 1 of type dbl</caption>\n",
              "<tbody>\n",
              "\t<tr><td>1</td></tr>\n",
              "\t<tr><td>1</td></tr>\n",
              "\t<tr><td>1</td></tr>\n",
              "\t<tr><td>1</td></tr>\n",
              "\t<tr><td>1</td></tr>\n",
              "\t<tr><td>1</td></tr>\n",
              "\t<tr><td>1</td></tr>\n",
              "\t<tr><td>1</td></tr>\n",
              "\t<tr><td>1</td></tr>\n",
              "\t<tr><td>1</td></tr>\n",
              "</tbody>\n",
              "</table>\n"
            ]
          },
          "metadata": {
            "tags": []
          }
        }
      ]
    },
    {
      "cell_type": "code",
      "metadata": {
        "colab": {
          "base_uri": "https://localhost:8080/",
          "height": 98
        },
        "id": "JkvXk2koPn1P",
        "outputId": "9781f981-1b00-4166-aa73-3a26787dee00"
      },
      "source": [
        "1/10*t(unos)%*%Evaluaciones"
      ],
      "execution_count": null,
      "outputs": [
        {
          "output_type": "display_data",
          "data": {
            "text/plain": [
              "     Matematicas Ciencias Español Historia Fisica\n",
              "[1,] 6.79        7.65     7.74    7.9      7.42  "
            ],
            "text/latex": "A matrix: 1 × 5 of type dbl\n\\begin{tabular}{lllll}\n Matematicas & Ciencias & Español & Historia & Fisica\\\\\n\\hline\n\t 6.79 & 7.65 & 7.74 & 7.9 & 7.42\\\\\n\\end{tabular}\n",
            "text/markdown": "\nA matrix: 1 × 5 of type dbl\n\n| Matematicas | Ciencias | Español | Historia | Fisica |\n|---|---|---|---|---|\n| 6.79 | 7.65 | 7.74 | 7.9 | 7.42 |\n\n",
            "text/html": [
              "<table class=\"dataframe\">\n",
              "<caption>A matrix: 1 × 5 of type dbl</caption>\n",
              "<thead>\n",
              "\t<tr><th scope=col>Matematicas</th><th scope=col>Ciencias</th><th scope=col>Español</th><th scope=col>Historia</th><th scope=col>Fisica</th></tr>\n",
              "</thead>\n",
              "<tbody>\n",
              "\t<tr><td>6.79</td><td>7.65</td><td>7.74</td><td>7.9</td><td>7.42</td></tr>\n",
              "</tbody>\n",
              "</table>\n"
            ]
          },
          "metadata": {
            "tags": []
          }
        }
      ]
    },
    {
      "cell_type": "code",
      "metadata": {
        "colab": {
          "base_uri": "https://localhost:8080/",
          "height": 379
        },
        "id": "fDTWrY35QpuP",
        "outputId": "2baee53d-38db-40b9-9e90-f48ec8c8b856"
      },
      "source": [
        "unos %*% media_materias"
      ],
      "execution_count": null,
      "outputs": [
        {
          "output_type": "display_data",
          "data": {
            "text/plain": [
              "      Matematicas Ciencias Español Historia Fisica\n",
              " [1,] 6.79        7.65     7.74    7.9      7.42  \n",
              " [2,] 6.79        7.65     7.74    7.9      7.42  \n",
              " [3,] 6.79        7.65     7.74    7.9      7.42  \n",
              " [4,] 6.79        7.65     7.74    7.9      7.42  \n",
              " [5,] 6.79        7.65     7.74    7.9      7.42  \n",
              " [6,] 6.79        7.65     7.74    7.9      7.42  \n",
              " [7,] 6.79        7.65     7.74    7.9      7.42  \n",
              " [8,] 6.79        7.65     7.74    7.9      7.42  \n",
              " [9,] 6.79        7.65     7.74    7.9      7.42  \n",
              "[10,] 6.79        7.65     7.74    7.9      7.42  "
            ],
            "text/latex": "A matrix: 10 × 5 of type dbl\n\\begin{tabular}{lllll}\n Matematicas & Ciencias & Español & Historia & Fisica\\\\\n\\hline\n\t 6.79 & 7.65 & 7.74 & 7.9 & 7.42\\\\\n\t 6.79 & 7.65 & 7.74 & 7.9 & 7.42\\\\\n\t 6.79 & 7.65 & 7.74 & 7.9 & 7.42\\\\\n\t 6.79 & 7.65 & 7.74 & 7.9 & 7.42\\\\\n\t 6.79 & 7.65 & 7.74 & 7.9 & 7.42\\\\\n\t 6.79 & 7.65 & 7.74 & 7.9 & 7.42\\\\\n\t 6.79 & 7.65 & 7.74 & 7.9 & 7.42\\\\\n\t 6.79 & 7.65 & 7.74 & 7.9 & 7.42\\\\\n\t 6.79 & 7.65 & 7.74 & 7.9 & 7.42\\\\\n\t 6.79 & 7.65 & 7.74 & 7.9 & 7.42\\\\\n\\end{tabular}\n",
            "text/markdown": "\nA matrix: 10 × 5 of type dbl\n\n| Matematicas | Ciencias | Español | Historia | Fisica |\n|---|---|---|---|---|\n| 6.79 | 7.65 | 7.74 | 7.9 | 7.42 |\n| 6.79 | 7.65 | 7.74 | 7.9 | 7.42 |\n| 6.79 | 7.65 | 7.74 | 7.9 | 7.42 |\n| 6.79 | 7.65 | 7.74 | 7.9 | 7.42 |\n| 6.79 | 7.65 | 7.74 | 7.9 | 7.42 |\n| 6.79 | 7.65 | 7.74 | 7.9 | 7.42 |\n| 6.79 | 7.65 | 7.74 | 7.9 | 7.42 |\n| 6.79 | 7.65 | 7.74 | 7.9 | 7.42 |\n| 6.79 | 7.65 | 7.74 | 7.9 | 7.42 |\n| 6.79 | 7.65 | 7.74 | 7.9 | 7.42 |\n\n",
            "text/html": [
              "<table class=\"dataframe\">\n",
              "<caption>A matrix: 10 × 5 of type dbl</caption>\n",
              "<thead>\n",
              "\t<tr><th scope=col>Matematicas</th><th scope=col>Ciencias</th><th scope=col>Español</th><th scope=col>Historia</th><th scope=col>Fisica</th></tr>\n",
              "</thead>\n",
              "<tbody>\n",
              "\t<tr><td>6.79</td><td>7.65</td><td>7.74</td><td>7.9</td><td>7.42</td></tr>\n",
              "\t<tr><td>6.79</td><td>7.65</td><td>7.74</td><td>7.9</td><td>7.42</td></tr>\n",
              "\t<tr><td>6.79</td><td>7.65</td><td>7.74</td><td>7.9</td><td>7.42</td></tr>\n",
              "\t<tr><td>6.79</td><td>7.65</td><td>7.74</td><td>7.9</td><td>7.42</td></tr>\n",
              "\t<tr><td>6.79</td><td>7.65</td><td>7.74</td><td>7.9</td><td>7.42</td></tr>\n",
              "\t<tr><td>6.79</td><td>7.65</td><td>7.74</td><td>7.9</td><td>7.42</td></tr>\n",
              "\t<tr><td>6.79</td><td>7.65</td><td>7.74</td><td>7.9</td><td>7.42</td></tr>\n",
              "\t<tr><td>6.79</td><td>7.65</td><td>7.74</td><td>7.9</td><td>7.42</td></tr>\n",
              "\t<tr><td>6.79</td><td>7.65</td><td>7.74</td><td>7.9</td><td>7.42</td></tr>\n",
              "\t<tr><td>6.79</td><td>7.65</td><td>7.74</td><td>7.9</td><td>7.42</td></tr>\n",
              "</tbody>\n",
              "</table>\n"
            ]
          },
          "metadata": {
            "tags": []
          }
        }
      ]
    },
    {
      "cell_type": "code",
      "metadata": {
        "colab": {
          "base_uri": "https://localhost:8080/",
          "height": 379
        },
        "id": "SMfzqAwKJ9mn",
        "outputId": "56ee3f15-e743-45ce-96e8-a7425a5c82e0"
      },
      "source": [
        "evaluacion_centrada <- Evaluaciones - unos %*% media_materias\n",
        "\n",
        "evaluacion_centrada"
      ],
      "execution_count": null,
      "outputs": [
        {
          "output_type": "display_data",
          "data": {
            "text/plain": [
              "       Matematicas Ciencias Español Historia Fisica\n",
              "Lucia   0.21       -1.15     1.46    0.7      0.58 \n",
              "Pedro   0.71        1.75    -0.44   -0.9     -0.42 \n",
              "Ines    0.81        1.55     0.26    0.1      0.08 \n",
              "Luis   -1.79       -1.15    -1.24   -0.9      1.58 \n",
              "Andres -0.79       -1.65     0.06    1.0     -0.12 \n",
              "Ana     1.01        1.95    -0.04    0.1     -0.92 \n",
              "Carlos -0.49       -1.25     0.46    1.1     -0.22 \n",
              "Jose    1.11        2.05    -0.24    0.1     -1.42 \n",
              "Sonia  -0.79       -1.65    -1.24   -2.4      1.28 \n",
              "Maria   0.01       -0.45     0.96    1.1     -0.42 "
            ],
            "text/latex": "A matrix: 10 × 5 of type dbl\n\\begin{tabular}{r|lllll}\n  & Matematicas & Ciencias & Español & Historia & Fisica\\\\\n\\hline\n\tLucia &  0.21 & -1.15 &  1.46 &  0.7 &  0.58\\\\\n\tPedro &  0.71 &  1.75 & -0.44 & -0.9 & -0.42\\\\\n\tInes &  0.81 &  1.55 &  0.26 &  0.1 &  0.08\\\\\n\tLuis & -1.79 & -1.15 & -1.24 & -0.9 &  1.58\\\\\n\tAndres & -0.79 & -1.65 &  0.06 &  1.0 & -0.12\\\\\n\tAna &  1.01 &  1.95 & -0.04 &  0.1 & -0.92\\\\\n\tCarlos & -0.49 & -1.25 &  0.46 &  1.1 & -0.22\\\\\n\tJose &  1.11 &  2.05 & -0.24 &  0.1 & -1.42\\\\\n\tSonia & -0.79 & -1.65 & -1.24 & -2.4 &  1.28\\\\\n\tMaria &  0.01 & -0.45 &  0.96 &  1.1 & -0.42\\\\\n\\end{tabular}\n",
            "text/markdown": "\nA matrix: 10 × 5 of type dbl\n\n| <!--/--> | Matematicas | Ciencias | Español | Historia | Fisica |\n|---|---|---|---|---|---|\n| Lucia |  0.21 | -1.15 |  1.46 |  0.7 |  0.58 |\n| Pedro |  0.71 |  1.75 | -0.44 | -0.9 | -0.42 |\n| Ines |  0.81 |  1.55 |  0.26 |  0.1 |  0.08 |\n| Luis | -1.79 | -1.15 | -1.24 | -0.9 |  1.58 |\n| Andres | -0.79 | -1.65 |  0.06 |  1.0 | -0.12 |\n| Ana |  1.01 |  1.95 | -0.04 |  0.1 | -0.92 |\n| Carlos | -0.49 | -1.25 |  0.46 |  1.1 | -0.22 |\n| Jose |  1.11 |  2.05 | -0.24 |  0.1 | -1.42 |\n| Sonia | -0.79 | -1.65 | -1.24 | -2.4 |  1.28 |\n| Maria |  0.01 | -0.45 |  0.96 |  1.1 | -0.42 |\n\n",
            "text/html": [
              "<table class=\"dataframe\">\n",
              "<caption>A matrix: 10 × 5 of type dbl</caption>\n",
              "<thead>\n",
              "\t<tr><th></th><th scope=col>Matematicas</th><th scope=col>Ciencias</th><th scope=col>Español</th><th scope=col>Historia</th><th scope=col>Fisica</th></tr>\n",
              "</thead>\n",
              "<tbody>\n",
              "\t<tr><th scope=row>Lucia</th><td> 0.21</td><td>-1.15</td><td> 1.46</td><td> 0.7</td><td> 0.58</td></tr>\n",
              "\t<tr><th scope=row>Pedro</th><td> 0.71</td><td> 1.75</td><td>-0.44</td><td>-0.9</td><td>-0.42</td></tr>\n",
              "\t<tr><th scope=row>Ines</th><td> 0.81</td><td> 1.55</td><td> 0.26</td><td> 0.1</td><td> 0.08</td></tr>\n",
              "\t<tr><th scope=row>Luis</th><td>-1.79</td><td>-1.15</td><td>-1.24</td><td>-0.9</td><td> 1.58</td></tr>\n",
              "\t<tr><th scope=row>Andres</th><td>-0.79</td><td>-1.65</td><td> 0.06</td><td> 1.0</td><td>-0.12</td></tr>\n",
              "\t<tr><th scope=row>Ana</th><td> 1.01</td><td> 1.95</td><td>-0.04</td><td> 0.1</td><td>-0.92</td></tr>\n",
              "\t<tr><th scope=row>Carlos</th><td>-0.49</td><td>-1.25</td><td> 0.46</td><td> 1.1</td><td>-0.22</td></tr>\n",
              "\t<tr><th scope=row>Jose</th><td> 1.11</td><td> 2.05</td><td>-0.24</td><td> 0.1</td><td>-1.42</td></tr>\n",
              "\t<tr><th scope=row>Sonia</th><td>-0.79</td><td>-1.65</td><td>-1.24</td><td>-2.4</td><td> 1.28</td></tr>\n",
              "\t<tr><th scope=row>Maria</th><td> 0.01</td><td>-0.45</td><td> 0.96</td><td> 1.1</td><td>-0.42</td></tr>\n",
              "</tbody>\n",
              "</table>\n"
            ]
          },
          "metadata": {
            "tags": []
          }
        }
      ]
    },
    {
      "cell_type": "code",
      "metadata": {
        "colab": {
          "base_uri": "https://localhost:8080/",
          "height": 52
        },
        "id": "4n3YRyfE2D_0",
        "outputId": "f0f0295a-b9a3-4789-9582-610d75744cb9"
      },
      "source": [
        "diag(S_materias)"
      ],
      "execution_count": null,
      "outputs": [
        {
          "output_type": "display_data",
          "data": {
            "text/plain": [
              "Matematicas    Ciencias     Español    Historia      Fisica \n",
              "  0.9054444   2.5916667   0.7404444   1.2577778   0.8617778 "
            ],
            "text/latex": "\\begin{description*}\n\\item[Matematicas] 0.905444444444446\n\\item[Ciencias] 2.59166666666667\n\\item[Español] 0.74044444444444\n\\item[Historia] 1.25777777777777\n\\item[Fisica] 0.861777777777776\n\\end{description*}\n",
            "text/markdown": "Matematicas\n:   0.905444444444446Ciencias\n:   2.59166666666667Español\n:   0.74044444444444Historia\n:   1.25777777777777Fisica\n:   0.861777777777776\n\n",
            "text/html": [
              "<style>\n",
              ".dl-inline {width: auto; margin:0; padding: 0}\n",
              ".dl-inline>dt, .dl-inline>dd {float: none; width: auto; display: inline-block}\n",
              ".dl-inline>dt::after {content: \":\\0020\"; padding-right: .5ex}\n",
              ".dl-inline>dt:not(:first-of-type) {padding-left: .5ex}\n",
              "</style><dl class=dl-inline><dt>Matematicas</dt><dd>0.905444444444446</dd><dt>Ciencias</dt><dd>2.59166666666667</dd><dt>Español</dt><dd>0.74044444444444</dd><dt>Historia</dt><dd>1.25777777777777</dd><dt>Fisica</dt><dd>0.861777777777776</dd></dl>\n"
            ]
          },
          "metadata": {
            "tags": []
          }
        }
      ]
    },
    {
      "cell_type": "code",
      "metadata": {
        "colab": {
          "base_uri": "https://localhost:8080/",
          "height": 191
        },
        "id": "3w4zlg0TzqxN",
        "outputId": "cfa41ab7-692b-43a3-df66-c3ba9d974e2f"
      },
      "source": [
        "invsd_matriz <- sqrt(diag(1/diag(S_materias),nrow = 5, ncol = 5))\n",
        "invsd_matriz\n"
      ],
      "execution_count": null,
      "outputs": [
        {
          "output_type": "display_data",
          "data": {
            "text/plain": [
              "     [,1]     [,2]      [,3]     [,4]      [,5]    \n",
              "[1,] 1.050919 0.0000000 0.000000 0.0000000 0.000000\n",
              "[2,] 0.000000 0.6211699 0.000000 0.0000000 0.000000\n",
              "[3,] 0.000000 0.0000000 1.162127 0.0000000 0.000000\n",
              "[4,] 0.000000 0.0000000 0.000000 0.8916574 0.000000\n",
              "[5,] 0.000000 0.0000000 0.000000 0.0000000 1.077215"
            ],
            "text/latex": "A matrix: 5 × 5 of type dbl\n\\begin{tabular}{lllll}\n\t 1.050919 & 0.0000000 & 0.000000 & 0.0000000 & 0.000000\\\\\n\t 0.000000 & 0.6211699 & 0.000000 & 0.0000000 & 0.000000\\\\\n\t 0.000000 & 0.0000000 & 1.162127 & 0.0000000 & 0.000000\\\\\n\t 0.000000 & 0.0000000 & 0.000000 & 0.8916574 & 0.000000\\\\\n\t 0.000000 & 0.0000000 & 0.000000 & 0.0000000 & 1.077215\\\\\n\\end{tabular}\n",
            "text/markdown": "\nA matrix: 5 × 5 of type dbl\n\n| 1.050919 | 0.0000000 | 0.000000 | 0.0000000 | 0.000000 |\n| 0.000000 | 0.6211699 | 0.000000 | 0.0000000 | 0.000000 |\n| 0.000000 | 0.0000000 | 1.162127 | 0.0000000 | 0.000000 |\n| 0.000000 | 0.0000000 | 0.000000 | 0.8916574 | 0.000000 |\n| 0.000000 | 0.0000000 | 0.000000 | 0.0000000 | 1.077215 |\n\n",
            "text/html": [
              "<table class=\"dataframe\">\n",
              "<caption>A matrix: 5 × 5 of type dbl</caption>\n",
              "<tbody>\n",
              "\t<tr><td>1.050919</td><td>0.0000000</td><td>0.000000</td><td>0.0000000</td><td>0.000000</td></tr>\n",
              "\t<tr><td>0.000000</td><td>0.6211699</td><td>0.000000</td><td>0.0000000</td><td>0.000000</td></tr>\n",
              "\t<tr><td>0.000000</td><td>0.0000000</td><td>1.162127</td><td>0.0000000</td><td>0.000000</td></tr>\n",
              "\t<tr><td>0.000000</td><td>0.0000000</td><td>0.000000</td><td>0.8916574</td><td>0.000000</td></tr>\n",
              "\t<tr><td>0.000000</td><td>0.0000000</td><td>0.000000</td><td>0.0000000</td><td>1.077215</td></tr>\n",
              "</tbody>\n",
              "</table>\n"
            ]
          },
          "metadata": {
            "tags": []
          }
        }
      ]
    },
    {
      "cell_type": "code",
      "metadata": {
        "colab": {
          "base_uri": "https://localhost:8080/",
          "height": 364
        },
        "id": "0mgnrS7X8nqp",
        "outputId": "c3d5d4e2-2318-4d23-d05b-377cf4a8f752"
      },
      "source": [
        "Diagonal <- invsd_matriz\n",
        "Diagonal\n",
        "\n",
        "S <- diag(diag(S_materias),nrow = 5, ncol = 5)\n",
        "S"
      ],
      "execution_count": null,
      "outputs": [
        {
          "output_type": "display_data",
          "data": {
            "text/plain": [
              "     [,1]     [,2]      [,3]     [,4]      [,5]    \n",
              "[1,] 1.050919 0.0000000 0.000000 0.0000000 0.000000\n",
              "[2,] 0.000000 0.6211699 0.000000 0.0000000 0.000000\n",
              "[3,] 0.000000 0.0000000 1.162127 0.0000000 0.000000\n",
              "[4,] 0.000000 0.0000000 0.000000 0.8916574 0.000000\n",
              "[5,] 0.000000 0.0000000 0.000000 0.0000000 1.077215"
            ],
            "text/latex": "A matrix: 5 × 5 of type dbl\n\\begin{tabular}{lllll}\n\t 1.050919 & 0.0000000 & 0.000000 & 0.0000000 & 0.000000\\\\\n\t 0.000000 & 0.6211699 & 0.000000 & 0.0000000 & 0.000000\\\\\n\t 0.000000 & 0.0000000 & 1.162127 & 0.0000000 & 0.000000\\\\\n\t 0.000000 & 0.0000000 & 0.000000 & 0.8916574 & 0.000000\\\\\n\t 0.000000 & 0.0000000 & 0.000000 & 0.0000000 & 1.077215\\\\\n\\end{tabular}\n",
            "text/markdown": "\nA matrix: 5 × 5 of type dbl\n\n| 1.050919 | 0.0000000 | 0.000000 | 0.0000000 | 0.000000 |\n| 0.000000 | 0.6211699 | 0.000000 | 0.0000000 | 0.000000 |\n| 0.000000 | 0.0000000 | 1.162127 | 0.0000000 | 0.000000 |\n| 0.000000 | 0.0000000 | 0.000000 | 0.8916574 | 0.000000 |\n| 0.000000 | 0.0000000 | 0.000000 | 0.0000000 | 1.077215 |\n\n",
            "text/html": [
              "<table class=\"dataframe\">\n",
              "<caption>A matrix: 5 × 5 of type dbl</caption>\n",
              "<tbody>\n",
              "\t<tr><td>1.050919</td><td>0.0000000</td><td>0.000000</td><td>0.0000000</td><td>0.000000</td></tr>\n",
              "\t<tr><td>0.000000</td><td>0.6211699</td><td>0.000000</td><td>0.0000000</td><td>0.000000</td></tr>\n",
              "\t<tr><td>0.000000</td><td>0.0000000</td><td>1.162127</td><td>0.0000000</td><td>0.000000</td></tr>\n",
              "\t<tr><td>0.000000</td><td>0.0000000</td><td>0.000000</td><td>0.8916574</td><td>0.000000</td></tr>\n",
              "\t<tr><td>0.000000</td><td>0.0000000</td><td>0.000000</td><td>0.0000000</td><td>1.077215</td></tr>\n",
              "</tbody>\n",
              "</table>\n"
            ]
          },
          "metadata": {
            "tags": []
          }
        },
        {
          "output_type": "display_data",
          "data": {
            "text/plain": [
              "     [,1]      [,2]     [,3]      [,4]     [,5]     \n",
              "[1,] 0.9054444 0.000000 0.0000000 0.000000 0.0000000\n",
              "[2,] 0.0000000 2.591667 0.0000000 0.000000 0.0000000\n",
              "[3,] 0.0000000 0.000000 0.7404444 0.000000 0.0000000\n",
              "[4,] 0.0000000 0.000000 0.0000000 1.257778 0.0000000\n",
              "[5,] 0.0000000 0.000000 0.0000000 0.000000 0.8617778"
            ],
            "text/latex": "A matrix: 5 × 5 of type dbl\n\\begin{tabular}{lllll}\n\t 0.9054444 & 0.000000 & 0.0000000 & 0.000000 & 0.0000000\\\\\n\t 0.0000000 & 2.591667 & 0.0000000 & 0.000000 & 0.0000000\\\\\n\t 0.0000000 & 0.000000 & 0.7404444 & 0.000000 & 0.0000000\\\\\n\t 0.0000000 & 0.000000 & 0.0000000 & 1.257778 & 0.0000000\\\\\n\t 0.0000000 & 0.000000 & 0.0000000 & 0.000000 & 0.8617778\\\\\n\\end{tabular}\n",
            "text/markdown": "\nA matrix: 5 × 5 of type dbl\n\n| 0.9054444 | 0.000000 | 0.0000000 | 0.000000 | 0.0000000 |\n| 0.0000000 | 2.591667 | 0.0000000 | 0.000000 | 0.0000000 |\n| 0.0000000 | 0.000000 | 0.7404444 | 0.000000 | 0.0000000 |\n| 0.0000000 | 0.000000 | 0.0000000 | 1.257778 | 0.0000000 |\n| 0.0000000 | 0.000000 | 0.0000000 | 0.000000 | 0.8617778 |\n\n",
            "text/html": [
              "<table class=\"dataframe\">\n",
              "<caption>A matrix: 5 × 5 of type dbl</caption>\n",
              "<tbody>\n",
              "\t<tr><td>0.9054444</td><td>0.000000</td><td>0.0000000</td><td>0.000000</td><td>0.0000000</td></tr>\n",
              "\t<tr><td>0.0000000</td><td>2.591667</td><td>0.0000000</td><td>0.000000</td><td>0.0000000</td></tr>\n",
              "\t<tr><td>0.0000000</td><td>0.000000</td><td>0.7404444</td><td>0.000000</td><td>0.0000000</td></tr>\n",
              "\t<tr><td>0.0000000</td><td>0.000000</td><td>0.0000000</td><td>1.257778</td><td>0.0000000</td></tr>\n",
              "\t<tr><td>0.0000000</td><td>0.000000</td><td>0.0000000</td><td>0.000000</td><td>0.8617778</td></tr>\n",
              "</tbody>\n",
              "</table>\n"
            ]
          },
          "metadata": {
            "tags": []
          }
        }
      ]
    },
    {
      "cell_type": "code",
      "metadata": {
        "colab": {
          "base_uri": "https://localhost:8080/",
          "height": 223
        },
        "id": "y5_w9VDlArGo",
        "outputId": "5f03ad4c-b995-4585-c48d-4e0391a04398"
      },
      "source": [
        "S_materias"
      ],
      "execution_count": null,
      "outputs": [
        {
          "output_type": "display_data",
          "data": {
            "text/plain": [
              "            Matematicas Ciencias    Español     Historia    Fisica    \n",
              "Matematicas  0.9054444   1.30833333  0.31488889  0.22111111 -0.6953333\n",
              "Ciencias     1.3083333   2.59166667 -0.02777778 -0.03888889 -1.0277778\n",
              "Español      0.3148889  -0.02777778  0.74044444  0.79222222 -0.2920000\n",
              "Historia     0.2211111  -0.03888889  0.79222222  1.25777778 -0.5288889\n",
              "Fisica      -0.6953333  -1.02777778 -0.29200000 -0.52888889  0.8617778"
            ],
            "text/latex": "A matrix: 5 × 5 of type dbl\n\\begin{tabular}{r|lllll}\n  & Matematicas & Ciencias & Español & Historia & Fisica\\\\\n\\hline\n\tMatematicas &  0.9054444 &  1.30833333 &  0.31488889 &  0.22111111 & -0.6953333\\\\\n\tCiencias &  1.3083333 &  2.59166667 & -0.02777778 & -0.03888889 & -1.0277778\\\\\n\tEspañol &  0.3148889 & -0.02777778 &  0.74044444 &  0.79222222 & -0.2920000\\\\\n\tHistoria &  0.2211111 & -0.03888889 &  0.79222222 &  1.25777778 & -0.5288889\\\\\n\tFisica & -0.6953333 & -1.02777778 & -0.29200000 & -0.52888889 &  0.8617778\\\\\n\\end{tabular}\n",
            "text/markdown": "\nA matrix: 5 × 5 of type dbl\n\n| <!--/--> | Matematicas | Ciencias | Español | Historia | Fisica |\n|---|---|---|---|---|---|\n| Matematicas |  0.9054444 |  1.30833333 |  0.31488889 |  0.22111111 | -0.6953333 |\n| Ciencias |  1.3083333 |  2.59166667 | -0.02777778 | -0.03888889 | -1.0277778 |\n| Español |  0.3148889 | -0.02777778 |  0.74044444 |  0.79222222 | -0.2920000 |\n| Historia |  0.2211111 | -0.03888889 |  0.79222222 |  1.25777778 | -0.5288889 |\n| Fisica | -0.6953333 | -1.02777778 | -0.29200000 | -0.52888889 |  0.8617778 |\n\n",
            "text/html": [
              "<table class=\"dataframe\">\n",
              "<caption>A matrix: 5 × 5 of type dbl</caption>\n",
              "<thead>\n",
              "\t<tr><th></th><th scope=col>Matematicas</th><th scope=col>Ciencias</th><th scope=col>Español</th><th scope=col>Historia</th><th scope=col>Fisica</th></tr>\n",
              "</thead>\n",
              "<tbody>\n",
              "\t<tr><th scope=row>Matematicas</th><td> 0.9054444</td><td> 1.30833333</td><td> 0.31488889</td><td> 0.22111111</td><td>-0.6953333</td></tr>\n",
              "\t<tr><th scope=row>Ciencias</th><td> 1.3083333</td><td> 2.59166667</td><td>-0.02777778</td><td>-0.03888889</td><td>-1.0277778</td></tr>\n",
              "\t<tr><th scope=row>Español</th><td> 0.3148889</td><td>-0.02777778</td><td> 0.74044444</td><td> 0.79222222</td><td>-0.2920000</td></tr>\n",
              "\t<tr><th scope=row>Historia</th><td> 0.2211111</td><td>-0.03888889</td><td> 0.79222222</td><td> 1.25777778</td><td>-0.5288889</td></tr>\n",
              "\t<tr><th scope=row>Fisica</th><td>-0.6953333</td><td>-1.02777778</td><td>-0.29200000</td><td>-0.52888889</td><td> 0.8617778</td></tr>\n",
              "</tbody>\n",
              "</table>\n"
            ]
          },
          "metadata": {
            "tags": []
          }
        }
      ]
    },
    {
      "cell_type": "code",
      "metadata": {
        "colab": {
          "base_uri": "https://localhost:8080/",
          "height": 223
        },
        "id": "U0OGXXZEzU5R",
        "outputId": "ffbb9dda-bc88-4afb-dfea-0a9597bf2425"
      },
      "source": [
        "#Coeficiente de correlación\n",
        "R <- Diagonal%*%S_materias%*%Diagonal\n",
        "\n",
        "#R\n",
        "\n",
        "rownames(R) <- c('Matematicas','Ciencias','Español','Historia','Fisica')\n",
        "colnames(R) <- c('Matematicas','Ciencias','Español','Historia','Fisica')\n",
        "R"
      ],
      "execution_count": null,
      "outputs": [
        {
          "output_type": "display_data",
          "data": {
            "text/plain": [
              "            Matematicas Ciencias    Español     Historia    Fisica    \n",
              "Matematicas  1.0000000   0.85407878  0.38457424  0.20719425 -0.7871627\n",
              "Ciencias     0.8540788   1.00000000 -0.02005218 -0.02153942 -0.6877206\n",
              "Español      0.3845742  -0.02005218  1.00000000  0.82091619 -0.3655434\n",
              "Historia     0.2071943  -0.02153942  0.82091619  1.00000000 -0.5080013\n",
              "Fisica      -0.7871627  -0.68772056 -0.36554342 -0.50800132  1.0000000"
            ],
            "text/latex": "A matrix: 5 × 5 of type dbl\n\\begin{tabular}{r|lllll}\n  & Matematicas & Ciencias & Español & Historia & Fisica\\\\\n\\hline\n\tMatematicas &  1.0000000 &  0.85407878 &  0.38457424 &  0.20719425 & -0.7871627\\\\\n\tCiencias &  0.8540788 &  1.00000000 & -0.02005218 & -0.02153942 & -0.6877206\\\\\n\tEspañol &  0.3845742 & -0.02005218 &  1.00000000 &  0.82091619 & -0.3655434\\\\\n\tHistoria &  0.2071943 & -0.02153942 &  0.82091619 &  1.00000000 & -0.5080013\\\\\n\tFisica & -0.7871627 & -0.68772056 & -0.36554342 & -0.50800132 &  1.0000000\\\\\n\\end{tabular}\n",
            "text/markdown": "\nA matrix: 5 × 5 of type dbl\n\n| <!--/--> | Matematicas | Ciencias | Español | Historia | Fisica |\n|---|---|---|---|---|---|\n| Matematicas |  1.0000000 |  0.85407878 |  0.38457424 |  0.20719425 | -0.7871627 |\n| Ciencias |  0.8540788 |  1.00000000 | -0.02005218 | -0.02153942 | -0.6877206 |\n| Español |  0.3845742 | -0.02005218 |  1.00000000 |  0.82091619 | -0.3655434 |\n| Historia |  0.2071943 | -0.02153942 |  0.82091619 |  1.00000000 | -0.5080013 |\n| Fisica | -0.7871627 | -0.68772056 | -0.36554342 | -0.50800132 |  1.0000000 |\n\n",
            "text/html": [
              "<table class=\"dataframe\">\n",
              "<caption>A matrix: 5 × 5 of type dbl</caption>\n",
              "<thead>\n",
              "\t<tr><th></th><th scope=col>Matematicas</th><th scope=col>Ciencias</th><th scope=col>Español</th><th scope=col>Historia</th><th scope=col>Fisica</th></tr>\n",
              "</thead>\n",
              "<tbody>\n",
              "\t<tr><th scope=row>Matematicas</th><td> 1.0000000</td><td> 0.85407878</td><td> 0.38457424</td><td> 0.20719425</td><td>-0.7871627</td></tr>\n",
              "\t<tr><th scope=row>Ciencias</th><td> 0.8540788</td><td> 1.00000000</td><td>-0.02005218</td><td>-0.02153942</td><td>-0.6877206</td></tr>\n",
              "\t<tr><th scope=row>Español</th><td> 0.3845742</td><td>-0.02005218</td><td> 1.00000000</td><td> 0.82091619</td><td>-0.3655434</td></tr>\n",
              "\t<tr><th scope=row>Historia</th><td> 0.2071943</td><td>-0.02153942</td><td> 0.82091619</td><td> 1.00000000</td><td>-0.5080013</td></tr>\n",
              "\t<tr><th scope=row>Fisica</th><td>-0.7871627</td><td>-0.68772056</td><td>-0.36554342</td><td>-0.50800132</td><td> 1.0000000</td></tr>\n",
              "</tbody>\n",
              "</table>\n"
            ]
          },
          "metadata": {
            "tags": []
          }
        }
      ]
    },
    {
      "cell_type": "code",
      "metadata": {
        "colab": {
          "base_uri": "https://localhost:8080/",
          "height": 35
        },
        "id": "9YtnRKM7mAFY",
        "outputId": "c2787638-aaae-4f7a-8c50-22539d4afe2c"
      },
      "source": [
        "170+1716.98+200+22.41+199.9+800+92.6+520+231.65+39.9+916.58+491.58+271"
      ],
      "execution_count": null,
      "outputs": [
        {
          "output_type": "display_data",
          "data": {
            "text/plain": [
              "[1] 5672.6"
            ],
            "text/latex": "5672.6",
            "text/markdown": "5672.6",
            "text/html": [
              "5672.6"
            ]
          },
          "metadata": {
            "tags": []
          }
        }
      ]
    },
    {
      "cell_type": "code",
      "metadata": {
        "colab": {
          "base_uri": "https://localhost:8080/",
          "height": 35
        },
        "id": "ba-krYqjmfDT",
        "outputId": "3a9e6595-dd80-43cb-dcc0-5775069d8f5a"
      },
      "source": [
        "6490/24"
      ],
      "execution_count": null,
      "outputs": [
        {
          "output_type": "display_data",
          "data": {
            "text/plain": [
              "[1] 270.4167"
            ],
            "text/latex": "270.416666666667",
            "text/markdown": "270.416666666667",
            "text/html": [
              "270.416666666667"
            ]
          },
          "metadata": {
            "tags": []
          }
        }
      ]
    }
  ]
}